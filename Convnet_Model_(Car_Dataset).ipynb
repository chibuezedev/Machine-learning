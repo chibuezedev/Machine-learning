{
  "nbformat": 4,
  "nbformat_minor": 0,
  "metadata": {
    "colab": {
      "provenance": [],
      "authorship_tag": "ABX9TyOffiDRYBiK6Z/AzamL1/O2",
      "include_colab_link": true
    },
    "kernelspec": {
      "name": "python3",
      "display_name": "Python 3"
    },
    "language_info": {
      "name": "python"
    }
  },
  "cells": [
    {
      "cell_type": "markdown",
      "metadata": {
        "id": "view-in-github",
        "colab_type": "text"
      },
      "source": [
        "<a href=\"https://colab.research.google.com/github/chibuezedev/Machine-learning/blob/main/Convnet_Model_(Car_Dataset).ipynb\" target=\"_parent\"><img src=\"https://colab.research.google.com/assets/colab-badge.svg\" alt=\"Open In Colab\"/></a>"
      ]
    },
    {
      "cell_type": "markdown",
      "source": [
        "Load the Data first\n"
      ],
      "metadata": {
        "id": "DeI83aZSuiBR"
      }
    },
    {
      "cell_type": "markdown",
      "source": [
        "**Step One**"
      ],
      "metadata": {
        "id": "tAMIGsPd5Q4k"
      }
    },
    {
      "cell_type": "code",
      "execution_count": null,
      "metadata": {
        "id": "811aCQ3guVla"
      },
      "outputs": [],
      "source": [
        "\n",
        "import os, warnings\n",
        "import matplotlib.pyplot as plt\n",
        "from matplotlib import gridspec\n",
        "\n",
        "import numpy as np\n",
        "import tensorflow as tf\n",
        "from tensorflow.keras.preprocessing import image_dataset_from_directory\n",
        "\n",
        "# Reproducability\n",
        "def set_seed(seed=31415):\n",
        "    np.random.seed(seed)\n",
        "    tf.random.set_seed(seed)\n",
        "    os.environ['PYTHONHASHSEED'] = str(seed)\n",
        "    os.environ['TF_DETERMINISTIC_OPS'] = '1'\n",
        "set_seed()\n",
        "\n",
        "\n",
        "# Set Matplotlib defaults\n",
        "plt.rc('figure', autolayout=True)\n",
        "plt.rc('axes', labelweight='bold', labelsize='large',\n",
        "       titleweight='bold', titlesize=18, titlepad=10)\n",
        "plt.rc('image', cmap='magma')\n",
        "warnings.filterwarnings(\"ignore\") # to clean up output cells\n",
        "\n",
        "\n",
        "# Load training and validation sets\n",
        "ds_train_ = image_dataset_from_directory(\n",
        "    '../input/car-or-truck/train',\n",
        "    labels='inferred',\n",
        "    label_mode='binary',\n",
        "    image_size=[128, 128],\n",
        "    interpolation='nearest',\n",
        "    batch_size=64,\n",
        "    shuffle=True,\n",
        ")\n",
        "\n",
        "ds_valid_ = image_dataset_from_directory(\n",
        "    '../input/car-or-truck/valid',\n",
        "    labels='inferred',\n",
        "    label_mode='binary',\n",
        "    image_size=[128, 128],\n",
        "    interpolation='nearest',\n",
        "    batch_size=64,\n",
        "    shuffle=False,\n",
        ")\n",
        "\n",
        "# Data Pipeline\n",
        "def convert_to_float(image, label):\n",
        "    image = tf.image.convert_image_dtype(image, dtype=tf.float32)\n",
        "    return image, label\n",
        "\n",
        "AUTOTUNE = tf.data.experimental.AUTOTUNE\n",
        "ds_train = (\n",
        "    ds_train_\n",
        "    .map(convert_to_float)\n",
        "    .cache()\n",
        "    .prefetch(buffer_size=AUTOTUNE)\n",
        ")\n",
        "ds_valid = (\n",
        "    ds_valid_\n",
        "    .map(convert_to_float)\n",
        "    .cache()\n",
        "    .prefetch(buffer_size=AUTOTUNE)\n",
        ")"
      ]
    },
    {
      "cell_type": "markdown",
      "source": [
        "# Flow of the image used\n",
        "\n",
        "![U1VdoDJ.png](data:image/png;base64,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)"
      ],
      "metadata": {
        "id": "dF6Ta-RNvPuG"
      }
    },
    {
      "cell_type": "markdown",
      "source": [
        "**Step Two:**\n",
        "\n",
        "Now we'll define the model. See how our model consists of three blocks of Conv2D and MaxPool2D layers (the base) followed by a head of Dense layers. We can translate this diagram more or less directly into a Keras Sequential model just by filling in the appropriate parameters."
      ],
      "metadata": {
        "id": "PGFFgTxk4CDV"
      }
    },
    {
      "cell_type": "code",
      "source": [
        "from tensorflow import keras\n",
        "from tensorflow.keras import layers\n",
        "\n",
        "model = keras.Sequential([\n",
        "\n",
        "    # First Convolutional Block\n",
        "    layers.Conv2D(filters=32, kernel_size=5, activation=\"relu\", padding='same',\n",
        "                  # give the input dimensions in the first layer\n",
        "                  # [height, width, color channels(RGB)]\n",
        "                  input_shape=[128, 128, 3]),\n",
        "    layers.MaxPool2D(),\n",
        "\n",
        "    # Second Convolutional Block\n",
        "    layers.Conv2D(filters=64, kernel_size=3, activation=\"relu\", padding='same'),\n",
        "    layers.MaxPool2D(),\n",
        "\n",
        "    # Third Convolutional Block\n",
        "    layers.Conv2D(filters=128, kernel_size=3, activation=\"relu\", padding='same'),\n",
        "    layers.MaxPool2D(),\n",
        "\n",
        "    # Classifier Head\n",
        "    layers.Flatten(),\n",
        "    layers.Dense(units=6, activation=\"relu\"),\n",
        "    layers.Dense(units=1, activation=\"sigmoid\"),\n",
        "])\n",
        "model.summary()"
      ],
      "metadata": {
        "id": "_ukgm3YyvYCK"
      },
      "execution_count": null,
      "outputs": []
    },
    {
      "cell_type": "markdown",
      "source": [
        "**Step 3 - Train**\n",
        "\n",
        "compile it with an optimizer along with a loss and metric appropriate for binary classification."
      ],
      "metadata": {
        "id": "vI8DSmzq5KDw"
      }
    },
    {
      "cell_type": "code",
      "source": [
        "model.compile(\n",
        "    optimizer=tf.keras.optimizers.Adam(epsilon=0.01),\n",
        "    loss='binary_crossentropy',\n",
        "    metrics=['binary_accuracy']\n",
        ")\n",
        "\n",
        "history = model.fit(\n",
        "    ds_train,\n",
        "    validation_data=ds_valid,\n",
        "    epochs=40,\n",
        "    verbose=0,\n",
        ")"
      ],
      "metadata": {
        "id": "ri09lfuG420w"
      },
      "execution_count": null,
      "outputs": []
    },
    {
      "cell_type": "code",
      "source": [
        "import pandas as pd\n",
        "\n",
        "history_frame = pd.DataFrame(history.history)\n",
        "history_frame.loc[:, ['loss', 'val_loss']].plot()\n",
        "history_frame.loc[:, ['binary_accuracy', 'val_binary_accuracy']].plot();"
      ],
      "metadata": {
        "id": "jd0ci9UB52AY"
      },
      "execution_count": null,
      "outputs": []
    }
  ]
}